{
 "cells": [
  {
   "cell_type": "code",
   "execution_count": 1,
   "metadata": {},
   "outputs": [],
   "source": [
    "lbs_info = {\n",
    "    'full name' : \"lal bahadur shastri college\",\n",
    "    'short name ': 'lbs',\n",
    "    'student' : 440,\n",
    "    'culture': 'mood kharab bacche'\n",
    "}"
   ]
  },
  {
   "cell_type": "code",
   "execution_count": 2,
   "metadata": {},
   "outputs": [],
   "source": [
    "movies = {\n",
    "    'suryavansham':{\n",
    "        'relayed on':'Sony Max',\n",
    "        'plot' : 'Rich father does not like his illitrate son',\n",
    "        'rating' : 10\n",
    "    },\n",
    "'Ghajini': {\n",
    "    'plot': 'Rich person forgets everything after 15 minutes',\n",
    "    'rating' : 10,\n",
    "    'Streamed on' : 'Jio Chinema'\n",
    "    },\n",
    "'3 idiots' : {\n",
    "    'plot':'learn concept',\n",
    "    'rating': 9,\n",
    "    'streamed on' :'sony liv' \n",
    "    },\n",
    "'padmavat' :{\n",
    "   'plot':'history',\n",
    "   'rating': 8,\n",
    "   'streamed on' :  'jio chinema' \n",
    "    },\n",
    "'kerla story':{\n",
    "    'plot':'religion change',\n",
    "    'rating': 7,\n",
    "    'streamed on' :'amazone prime'\n",
    "    }\n",
    "\n",
    "}"
   ]
  },
  {
   "attachments": {},
   "cell_type": "markdown",
   "metadata": {},
   "source": [
    "adding data\n",
    "\n",
    "syntax dict[key]= value"
   ]
  },
  {
   "cell_type": "code",
   "execution_count": 4,
   "metadata": {},
   "outputs": [],
   "source": [
    "movies['3 idiots'] = {\n",
    "    'plot':'learn concept',\n",
    "    'rating': 9,\n",
    "    'streamed on' :'sony liv' \n",
    "}"
   ]
  },
  {
   "cell_type": "code",
   "execution_count": 6,
   "metadata": {},
   "outputs": [
    {
     "data": {
      "text/plain": [
       "{'plot': 'Rich person forgets everything after 15 minutes',\n",
       " 'rating': 10,\n",
       " 'Streamed on': 'Jio Chinema'}"
      ]
     },
     "execution_count": 6,
     "metadata": {},
     "output_type": "execute_result"
    }
   ],
   "source": [
    "# retrieve\n",
    "movies['Ghajini']"
   ]
  },
  {
   "cell_type": "code",
   "execution_count": 9,
   "metadata": {},
   "outputs": [
    {
     "data": {
      "text/plain": [
       "{'plot': 'learn concept', 'rating': 9, 'streamed on': 'sony liv'}"
      ]
     },
     "execution_count": 9,
     "metadata": {},
     "output_type": "execute_result"
    }
   ],
   "source": [
    "movies['3 idiots']"
   ]
  },
  {
   "cell_type": "code",
   "execution_count": 10,
   "metadata": {},
   "outputs": [
    {
     "data": {
      "text/plain": [
       "[{'relayed on': 'Sony Max',\n",
       "  'plot': 'Rich father does not like his illitrate son',\n",
       "  'rating': 10},\n",
       " {'plot': 'Rich person forgets everything after 15 minutes',\n",
       "  'rating': 10,\n",
       "  'Streamed on': 'Jio Chinema'},\n",
       " {'plot': 'learn concept', 'rating': 9, 'streamed on': 'sony liv'},\n",
       " {'plot': 'history', 'rating': 8, 'streamed on': 'jio chinema'},\n",
       " {'plot': 'religion change', 'rating': 7, 'streamed on': 'amazone prime'}]"
      ]
     },
     "execution_count": 10,
     "metadata": {},
     "output_type": "execute_result"
    }
   ],
   "source": [
    "#getting only values\n",
    "list(movies.values())"
   ]
  },
  {
   "cell_type": "code",
   "execution_count": 11,
   "metadata": {},
   "outputs": [
    {
     "data": {
      "text/plain": [
       "['suryavansham', 'Ghajini', '3 idiots', 'padmavat', 'kerla story']"
      ]
     },
     "execution_count": 11,
     "metadata": {},
     "output_type": "execute_result"
    }
   ],
   "source": [
    "#getting only keys\n",
    "list(movies.keys())"
   ]
  },
  {
   "cell_type": "code",
   "execution_count": 12,
   "metadata": {},
   "outputs": [
    {
     "data": {
      "text/plain": [
       "dict_items([('suryavansham', {'relayed on': 'Sony Max', 'plot': 'Rich father does not like his illitrate son', 'rating': 10}), ('Ghajini', {'plot': 'Rich person forgets everything after 15 minutes', 'rating': 10, 'Streamed on': 'Jio Chinema'}), ('3 idiots', {'plot': 'learn concept', 'rating': 9, 'streamed on': 'sony liv'}), ('padmavat', {'plot': 'history', 'rating': 8, 'streamed on': 'jio chinema'}), ('kerla story', {'plot': 'religion change', 'rating': 7, 'streamed on': 'amazone prime'})])"
      ]
     },
     "execution_count": 12,
     "metadata": {},
     "output_type": "execute_result"
    }
   ],
   "source": [
    "#getting both keys and values as pair\n",
    "movies.items()"
   ]
  },
  {
   "cell_type": "code",
   "execution_count": 13,
   "metadata": {},
   "outputs": [
    {
     "name": "stdout",
     "output_type": "stream",
     "text": [
      "suryavansham\n",
      "relayed on     Sony Max\n",
      "plot           Rich father does not like his illitrate son\n",
      "rating         10\n",
      "Ghajini\n",
      "plot           Rich person forgets everything after 15 minutes\n",
      "rating         10\n",
      "Streamed on    Jio Chinema\n",
      "3 idiots\n",
      "plot           learn concept\n",
      "rating         9\n",
      "streamed on    sony liv\n",
      "padmavat\n",
      "plot           history\n",
      "rating         8\n",
      "streamed on    jio chinema\n",
      "kerla story\n",
      "plot           religion change\n",
      "rating         7\n",
      "streamed on    amazone prime\n"
     ]
    }
   ],
   "source": [
    "for title, details in movies.items():\n",
    "    print(title)\n",
    "    for entry, value in details.items():\n",
    "        print(f'{entry:15}{value}')"
   ]
  },
  {
   "cell_type": "code",
   "execution_count": 14,
   "metadata": {},
   "outputs": [
    {
     "name": "stdout",
     "output_type": "stream",
     "text": [
      "SURYAVANSHAM\n",
      "relayed on     Sony Max\n",
      "\n",
      "plot           Rich father does not like his illitrate son\n",
      "\n",
      "rating         10\n",
      "\n",
      "GHAJINI\n",
      "plot           Rich person forgets everything after 15 minutes\n",
      "\n",
      "rating         10\n",
      "\n",
      "Streamed on    Jio Chinema\n",
      "\n",
      "3 IDIOTS\n",
      "plot           learn concept\n",
      "\n",
      "rating         9\n",
      "\n",
      "streamed on    sony liv\n",
      "\n",
      "PADMAVAT\n",
      "plot           history\n",
      "\n",
      "rating         8\n",
      "\n",
      "streamed on    jio chinema\n",
      "\n",
      "KERLA STORY\n",
      "plot           religion change\n",
      "\n",
      "rating         7\n",
      "\n",
      "streamed on    amazone prime\n",
      "\n"
     ]
    }
   ],
   "source": [
    "for title, details in movies.items():\n",
    "    print(title.upper())\n",
    "    for entry, value in details.items():\n",
    "        print(f'{entry:15}{value}')\n",
    "        print()"
   ]
  },
  {
   "cell_type": "code",
   "execution_count": 15,
   "metadata": {},
   "outputs": [
    {
     "name": "stdout",
     "output_type": "stream",
     "text": [
      "{'suryavansham': {'relayed on': 'Sony Max', 'plot': 'Rich father does not like his illitrate son', 'rating': 10}, '3 idiots': {'plot': 'learn concept', 'rating': 9, 'streamed on': 'sony liv'}, 'padmavat': {'plot': 'history', 'rating': 8, 'streamed on': 'jio chinema'}, 'kerla story': {'plot': 'religion change', 'rating': 7, 'streamed on': 'amazone prime'}}\n"
     ]
    }
   ],
   "source": [
    "movies.pop('Ghajini')\n",
    "print(movies)"
   ]
  },
  {
   "cell_type": "code",
   "execution_count": null,
   "metadata": {},
   "outputs": [],
   "source": []
  }
 ],
 "metadata": {
  "kernelspec": {
   "display_name": "base",
   "language": "python",
   "name": "python3"
  },
  "language_info": {
   "codemirror_mode": {
    "name": "ipython",
    "version": 3
   },
   "file_extension": ".py",
   "mimetype": "text/x-python",
   "name": "python",
   "nbconvert_exporter": "python",
   "pygments_lexer": "ipython3",
   "version": "3.8.5"
  },
  "orig_nbformat": 4
 },
 "nbformat": 4,
 "nbformat_minor": 2
}
