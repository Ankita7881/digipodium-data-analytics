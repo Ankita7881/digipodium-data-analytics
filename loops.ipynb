{
 "cells": [
  {
   "attachments": {},
   "cell_type": "markdown",
   "metadata": {},
   "source": [
    "# for and while loops \n",
    "### for - step based loop \n",
    "### while - condition based loop \n",
    "```\n",
    "i=0\n",
    "while i< 10:\n",
    "print(i)\n",
    "i += 1\n",
    "```\n",
    "- used for \n",
    "     - iterating untill a condition is met \n"
   ]
  },
  {
   "cell_type": "code",
   "execution_count": 3,
   "metadata": {},
   "outputs": [],
   "source": [
    "movies = ['Shrek', 'Kungfu panda','final fantasy',\n",
    "          'How to train your dragon', 'Ice age',\n",
    "          'The lion king', 'The little mermaid',\n",
    "          'the jungle book', 'Aladdin', 'the little prince']"
   ]
  },
  {
   "cell_type": "code",
   "execution_count": 4,
   "metadata": {},
   "outputs": [
    {
     "name": "stdout",
     "output_type": "stream",
     "text": [
      "total movies = 10\n"
     ]
    }
   ],
   "source": [
    "print(f'total movies = {len(movies)}')"
   ]
  },
  {
   "cell_type": "code",
   "execution_count": 5,
   "metadata": {},
   "outputs": [
    {
     "name": "stdout",
     "output_type": "stream",
     "text": [
      "Shrek\n",
      "Kungfu panda\n",
      "final fantasy\n",
      "How to train your dragon\n",
      "Ice age\n",
      "The lion king\n",
      "The little mermaid\n",
      "the jungle book\n",
      "Aladdin\n",
      "the little prince\n"
     ]
    }
   ],
   "source": [
    "for movie in movies:\n",
    "    print(movie)"
   ]
  },
  {
   "cell_type": "code",
   "execution_count": 6,
   "metadata": {},
   "outputs": [
    {
     "name": "stdout",
     "output_type": "stream",
     "text": [
      "Shrek 5\n",
      "Kungfu panda 12\n",
      "final fantasy 13\n",
      "How to train your dragon 24\n",
      "Ice age 7\n",
      "The lion king 13\n",
      "The little mermaid 18\n",
      "the jungle book 15\n",
      "Aladdin 7\n",
      "the little prince 17\n"
     ]
    }
   ],
   "source": [
    "for movie in movies:\n",
    "    print(movie,len(movie))"
   ]
  },
  {
   "cell_type": "code",
   "execution_count": 11,
   "metadata": {},
   "outputs": [
    {
     "name": "stdout",
     "output_type": "stream",
     "text": [
      "Shrek                                         5\n",
      "Kungfu panda                                  12\n",
      "final fantasy                                 13\n",
      "How to train your dragon                      24\n",
      "Ice age                                       7\n",
      "The lion king                                 13\n",
      "The little mermaid                            18\n",
      "the jungle book                               15\n",
      "Aladdin                                       7\n",
      "the little prince                             17\n"
     ]
    }
   ],
   "source": [
    "for movie in movies:\n",
    "    print(f'{movie:45} {len(movie)}')"
   ]
  },
  {
   "cell_type": "code",
   "execution_count": 12,
   "metadata": {},
   "outputs": [
    {
     "name": "stdout",
     "output_type": "stream",
     "text": [
      "32\n",
      "33\n",
      "66\n",
      "55\n",
      "88\n",
      "66\n",
      "55\n",
      "99\n",
      "66\n"
     ]
    }
   ],
   "source": [
    "nums = [32,33,66,55,88,66,55,99,66]\n",
    "for i in nums:\n",
    "    print(i)"
   ]
  },
  {
   "cell_type": "code",
   "execution_count": 13,
   "metadata": {},
   "outputs": [
    {
     "name": "stdout",
     "output_type": "stream",
     "text": [
      "32 1024\n",
      "33 1089\n",
      "66 4356\n",
      "55 3025\n",
      "88 7744\n",
      "66 4356\n",
      "55 3025\n",
      "99 9801\n",
      "66 4356\n"
     ]
    }
   ],
   "source": [
    "nums = [32,33,66,55,88,66,55,99,66]\n",
    "for i in nums:\n",
    "    print(i),(i**2)"
   ]
  },
  {
   "cell_type": "code",
   "execution_count": 14,
   "metadata": {},
   "outputs": [
    {
     "name": "stdout",
     "output_type": "stream",
     "text": [
      "32 1024\n",
      "66 4356\n",
      "88 7744\n",
      "66 4356\n",
      "66 4356\n"
     ]
    }
   ],
   "source": [
    "for i in nums:\n",
    "    if i % 2 ==0:\n",
    "      print(i, i**2)"
   ]
  },
  {
   "cell_type": "code",
   "execution_count": 15,
   "metadata": {},
   "outputs": [
    {
     "name": "stdout",
     "output_type": "stream",
     "text": [
      "33 1089\n",
      "55 3025\n",
      "55 3025\n",
      "99 9801\n"
     ]
    }
   ],
   "source": [
    "for i in nums:\n",
    "    if i % 2 !=0:\n",
    "      print(i, i**2)"
   ]
  },
  {
   "cell_type": "code",
   "execution_count": 16,
   "metadata": {},
   "outputs": [
    {
     "data": {
      "text/plain": [
       "560"
      ]
     },
     "execution_count": 16,
     "metadata": {},
     "output_type": "execute_result"
    }
   ],
   "source": [
    "sum(nums)"
   ]
  },
  {
   "cell_type": "code",
   "execution_count": 19,
   "metadata": {},
   "outputs": [
    {
     "name": "stdout",
     "output_type": "stream",
     "text": [
      "318\n"
     ]
    }
   ],
   "source": [
    "total_evens = 0\n",
    "for i in nums:\n",
    "    if i % 2 ==0:\n",
    "      total_evens += i\n",
    "print(total_evens)"
   ]
  },
  {
   "cell_type": "code",
   "execution_count": 20,
   "metadata": {},
   "outputs": [
    {
     "name": "stdout",
     "output_type": "stream",
     "text": [
      "242\n"
     ]
    }
   ],
   "source": [
    "total_odds = 0\n",
    "for i in nums:\n",
    "    if i % 2 !=0:\n",
    "      total_odds += i\n",
    "print(total_odds)"
   ]
  },
  {
   "cell_type": "code",
   "execution_count": 22,
   "metadata": {},
   "outputs": [
    {
     "name": "stdout",
     "output_type": "stream",
     "text": [
      "32\n",
      "33\n",
      "66\n",
      "55\n",
      "88\n"
     ]
    }
   ],
   "source": [
    "for i in nums:\n",
    "    print(i)\n",
    "    if i > 70:\n",
    "        break"
   ]
  },
  {
   "cell_type": "code",
   "execution_count": 24,
   "metadata": {},
   "outputs": [
    {
     "name": "stdout",
     "output_type": "stream",
     "text": [
      "apple\n",
      "potato\n",
      "banana\n",
      "\n",
      "oramge\n",
      "mango\n"
     ]
    }
   ],
   "source": [
    "x = [\"apple\",'potato','banana','','oramge','mango']\n",
    "for item in x:\n",
    "    print(item)"
   ]
  },
  {
   "cell_type": "code",
   "execution_count": 25,
   "metadata": {},
   "outputs": [
    {
     "name": "stdout",
     "output_type": "stream",
     "text": [
      "apple\n",
      "potato\n",
      "banana\n"
     ]
    }
   ],
   "source": [
    "x = [\"apple\",'potato','banana','','oramge','mango']\n",
    "for item in x:\n",
    "    if len(item) == 0:\n",
    "        break \n",
    "    print(item)"
   ]
  },
  {
   "cell_type": "code",
   "execution_count": 27,
   "metadata": {},
   "outputs": [
    {
     "name": "stdout",
     "output_type": "stream",
     "text": [
      "Login successful\n"
     ]
    }
   ],
   "source": [
    "errors = 0\n",
    "while True:\n",
    "    username = input('Enter username')\n",
    "    password = input('Enter password')\n",
    "    if username == 'admin' and password == 'secret':\n",
    "        print('Login successful')\n",
    "        break\n",
    "    elif errors ==3:\n",
    "        print('Too many errors')\n",
    "        break\n",
    "    else:\n",
    "        print('Invalid username/password')\n",
    "        errors +=1"
   ]
  },
  {
   "cell_type": "code",
   "execution_count": 1,
   "metadata": {},
   "outputs": [],
   "source": [
    "x = [\n",
    "    ['warbreaker',4999],\n",
    "    ['The way of kings',5999],\n",
    "    ['Words of radiance',5999],\n",
    "    ['oathbringer',5999],\n",
    "    ['Rhythm of war',5999],\n",
    "    \n",
    "]"
   ]
  },
  {
   "cell_type": "code",
   "execution_count": 2,
   "metadata": {},
   "outputs": [
    {
     "name": "stdout",
     "output_type": "stream",
     "text": [
      "warbreaker\n",
      "---\n",
      "4999\n",
      "---\n",
      "The way of kings\n",
      "---\n",
      "5999\n",
      "---\n",
      "Words of radiance\n",
      "---\n",
      "5999\n",
      "---\n",
      "oathbringer\n",
      "---\n",
      "5999\n",
      "---\n",
      "Rhythm of war\n",
      "---\n",
      "5999\n",
      "---\n"
     ]
    }
   ],
   "source": [
    "for item in x:\n",
    "    for data in item:\n",
    "        print(data)\n",
    "        print('---')"
   ]
  },
  {
   "cell_type": "code",
   "execution_count": null,
   "metadata": {},
   "outputs": [],
   "source": []
  }
 ],
 "metadata": {
  "kernelspec": {
   "display_name": "base",
   "language": "python",
   "name": "python3"
  },
  "language_info": {
   "codemirror_mode": {
    "name": "ipython",
    "version": 3
   },
   "file_extension": ".py",
   "mimetype": "text/x-python",
   "name": "python",
   "nbconvert_exporter": "python",
   "pygments_lexer": "ipython3",
   "version": "3.8.5"
  },
  "orig_nbformat": 4
 },
 "nbformat": 4,
 "nbformat_minor": 2
}
