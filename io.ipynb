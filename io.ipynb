{
 "cells": [
  {
   "cell_type": "code",
   "execution_count": 3,
   "metadata": {},
   "outputs": [
    {
     "name": "stdout",
     "output_type": "stream",
     "text": [
      "Ankita verma\n"
     ]
    }
   ],
   "source": [
    "name = \"Ankita verma\"\n",
    "print(name)"
   ]
  },
  {
   "cell_type": "code",
   "execution_count": 5,
   "metadata": {},
   "outputs": [],
   "source": [
    "city = input('enter your city')"
   ]
  },
  {
   "cell_type": "code",
   "execution_count": 6,
   "metadata": {},
   "outputs": [],
   "source": [
    "college = input('enter your college name')"
   ]
  },
  {
   "cell_type": "code",
   "execution_count": 7,
   "metadata": {},
   "outputs": [],
   "source": [
    "klass = input('enter your klass name')"
   ]
  },
  {
   "cell_type": "code",
   "execution_count": 8,
   "metadata": {},
   "outputs": [],
   "source": [
    "iq = input('enter your iq')"
   ]
  },
  {
   "cell_type": "code",
   "execution_count": 9,
   "metadata": {},
   "outputs": [
    {
     "name": "stdout",
     "output_type": "stream",
     "text": [
      "Ankita verma\n",
      "sultanpur\n",
      "lbs\n",
      "bca\n",
      "10\n"
     ]
    }
   ],
   "source": [
    "print(name)\n",
    "print(city)\n",
    "print(college)\n",
    "print(klass)\n",
    "print(iq)\n"
   ]
  },
  {
   "cell_type": "code",
   "execution_count": 11,
   "metadata": {},
   "outputs": [
    {
     "name": "stdout",
     "output_type": "stream",
     "text": [
      "Ankita verma😊sultanpur😊lbs😊bca😊10\n"
     ]
    }
   ],
   "source": [
    "print(name,city,college,klass,iq, sep='😊')"
   ]
  },
  {
   "cell_type": "code",
   "execution_count": 12,
   "metadata": {},
   "outputs": [
    {
     "name": "stdout",
     "output_type": "stream",
     "text": [
      "Ankita verma\tsultanpur\tlbs\tbca\t10\n"
     ]
    }
   ],
   "source": [
    "print(name,city,college,klass,iq, sep='\\t')"
   ]
  },
  {
   "cell_type": "code",
   "execution_count": 13,
   "metadata": {},
   "outputs": [
    {
     "name": "stdout",
     "output_type": "stream",
     "text": [
      "Ankita verma\n",
      "sultanpur\n",
      "lbs\n",
      "bca\n",
      "10\n"
     ]
    }
   ],
   "source": [
    "print(name,city,college,klass,iq, sep='\\n')"
   ]
  },
  {
   "cell_type": "code",
   "execution_count": 17,
   "metadata": {},
   "outputs": [
    {
     "data": {
      "text/plain": [
       "'hello sultanpur'"
      ]
     },
     "execution_count": 17,
     "metadata": {},
     "output_type": "execute_result"
    }
   ],
   "source": [
    "f'hello {city}'"
   ]
  },
  {
   "cell_type": "code",
   "execution_count": 18,
   "metadata": {},
   "outputs": [
    {
     "name": "stdout",
     "output_type": "stream",
     "text": [
      "hi, i am Ankita verma\n",
      "i live in sultanpur\n",
      "i study in lbs\n",
      "i am in bca\n",
      "my iq is 10\n"
     ]
    }
   ],
   "source": [
    "print(f'hi, i am {name}')\n",
    "print(f'i live in {city}')\n",
    "print(f'i study in {college}')\n",
    "print(f'i am in {klass}')\n",
    "print(f'my iq is {iq}')"
   ]
  },
  {
   "cell_type": "code",
   "execution_count": 10,
   "metadata": {},
   "outputs": [
    {
     "name": "stdout",
     "output_type": "stream",
     "text": [
      "hi, i am Ankita verma and i live in sultanpur and i study in lbs and i am in bca and my iq is 10\n"
     ]
    }
   ],
   "source": [
    "print(f'hi, i am {name} and i live in {city} and i study in {college} and i am in {klass} and my iq is {iq}')"
   ]
  },
  {
   "cell_type": "code",
   "execution_count": null,
   "metadata": {},
   "outputs": [],
   "source": []
  }
 ],
 "metadata": {
  "kernelspec": {
   "display_name": "base",
   "language": "python",
   "name": "python3"
  },
  "language_info": {
   "codemirror_mode": {
    "name": "ipython",
    "version": 3
   },
   "file_extension": ".py",
   "mimetype": "text/x-python",
   "name": "python",
   "nbconvert_exporter": "python",
   "pygments_lexer": "ipython3",
   "version": "3.8.5"
  },
  "orig_nbformat": 4
 },
 "nbformat": 4,
 "nbformat_minor": 2
}
