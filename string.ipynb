{
 "cells": [
  {
   "cell_type": "code",
   "execution_count": 20,
   "metadata": {},
   "outputs": [
    {
     "name": "stdout",
     "output_type": "stream",
     "text": [
      "1\n"
     ]
    }
   ],
   "source": [
    "s=''\n",
    "b=1\n",
    "print(str(b))"
   ]
  },
  {
   "cell_type": "code",
   "execution_count": 21,
   "metadata": {},
   "outputs": [
    {
     "name": "stdout",
     "output_type": "stream",
     "text": [
      "12\n"
     ]
    }
   ],
   "source": [
    "#length\n",
    "s= 'Ankita Verma'\n",
    "print(len(s))"
   ]
  },
  {
   "cell_type": "code",
   "execution_count": 22,
   "metadata": {},
   "outputs": [
    {
     "name": "stdout",
     "output_type": "stream",
     "text": [
      "a\n"
     ]
    }
   ],
   "source": [
    "# indexing\n",
    "print(s[5])"
   ]
  },
  {
   "cell_type": "code",
   "execution_count": 23,
   "metadata": {},
   "outputs": [
    {
     "name": "stdout",
     "output_type": "stream",
     "text": [
      "a\n",
      "0 A\n",
      "1 n\n",
      "2 k\n",
      "3 i\n",
      "4 t\n",
      "5 a\n",
      "6  \n",
      "7 V\n",
      "8 e\n",
      "9 r\n",
      "10 m\n",
      "11 a\n"
     ]
    }
   ],
   "source": [
    "print(s[5])\n",
    "for i in range(len(s)):\n",
    "    print(i,s[i])"
   ]
  },
  {
   "cell_type": "code",
   "execution_count": 24,
   "metadata": {},
   "outputs": [
    {
     "name": "stdout",
     "output_type": "stream",
     "text": [
      "Ankita Verma\n"
     ]
    }
   ],
   "source": [
    "# slicing\n",
    "print(s[:])"
   ]
  },
  {
   "cell_type": "code",
   "execution_count": 25,
   "metadata": {},
   "outputs": [
    {
     "name": "stdout",
     "output_type": "stream",
     "text": [
      "Ankita V\n"
     ]
    }
   ],
   "source": [
    "print(s[0:8])"
   ]
  },
  {
   "cell_type": "code",
   "execution_count": 26,
   "metadata": {},
   "outputs": [
    {
     "name": "stdout",
     "output_type": "stream",
     "text": [
      "ta Verma\n"
     ]
    }
   ],
   "source": [
    "print(s[4:])"
   ]
  },
  {
   "cell_type": "code",
   "execution_count": 27,
   "metadata": {},
   "outputs": [],
   "source": [
    "msg = 'life before death, strength before weakness, journey before destination.'"
   ]
  },
  {
   "cell_type": "code",
   "execution_count": 28,
   "metadata": {},
   "outputs": [
    {
     "name": "stdout",
     "output_type": "stream",
     "text": [
      "life before death\n"
     ]
    }
   ],
   "source": [
    "print(msg[:17])"
   ]
  },
  {
   "cell_type": "code",
   "execution_count": 29,
   "metadata": {},
   "outputs": [
    {
     "name": "stdout",
     "output_type": "stream",
     "text": [
      "72\n"
     ]
    }
   ],
   "source": [
    "print(len(msg))"
   ]
  },
  {
   "cell_type": "code",
   "execution_count": 30,
   "metadata": {},
   "outputs": [
    {
     "data": {
      "text/plain": [
       "['life',\n",
       " 'before',\n",
       " 'death,',\n",
       " 'strength',\n",
       " 'before',\n",
       " 'weakness,',\n",
       " 'journey',\n",
       " 'before',\n",
       " 'destination.']"
      ]
     },
     "execution_count": 30,
     "metadata": {},
     "output_type": "execute_result"
    }
   ],
   "source": [
    "msg.split()"
   ]
  },
  {
   "cell_type": "code",
   "execution_count": 31,
   "metadata": {},
   "outputs": [
    {
     "data": {
      "text/plain": [
       "['life before death',\n",
       " ' strength before weakness',\n",
       " ' journey before destination.']"
      ]
     },
     "execution_count": 31,
     "metadata": {},
     "output_type": "execute_result"
    }
   ],
   "source": [
    "msg.split(',')"
   ]
  },
  {
   "cell_type": "code",
   "execution_count": 64,
   "metadata": {},
   "outputs": [],
   "source": [
    "poem='''rain rain go away,\n",
    "Come again another day.\n",
    "little johny wants to play,\n",
    "rain rain go away.'''"
   ]
  },
  {
   "cell_type": "code",
   "execution_count": 46,
   "metadata": {},
   "outputs": [
    {
     "name": "stdout",
     "output_type": "stream",
     "text": [
      "Rain rain go away,\n",
      "Come again another day.\n",
      "little johny wants to play,\n",
      "rain rain go away.\n"
     ]
    }
   ],
   "source": [
    "print(poem)"
   ]
  },
  {
   "cell_type": "code",
   "execution_count": 48,
   "metadata": {},
   "outputs": [
    {
     "name": "stdout",
     "output_type": "stream",
     "text": [
      "89 num of characters\n"
     ]
    }
   ],
   "source": [
    "print(len(poem),'num of characters')"
   ]
  },
  {
   "cell_type": "code",
   "execution_count": 47,
   "metadata": {},
   "outputs": [
    {
     "name": "stdout",
     "output_type": "stream",
     "text": [
      "17 num of words\n"
     ]
    }
   ],
   "source": [
    "print(len((poem.split())),'num of words')"
   ]
  },
  {
   "cell_type": "code",
   "execution_count": 36,
   "metadata": {},
   "outputs": [
    {
     "name": "stdout",
     "output_type": "stream",
     "text": [
      "4 num of lines\n"
     ]
    }
   ],
   "source": [
    "print(len((poem.splitlines())),'num of lines')"
   ]
  },
  {
   "cell_type": "code",
   "execution_count": 50,
   "metadata": {},
   "outputs": [
    {
     "name": "stdout",
     "output_type": "stream",
     "text": [
      "-x--x--x--x--x--x--x--x--x--x-\n"
     ]
    }
   ],
   "source": [
    "print('-x-'* 10)"
   ]
  },
  {
   "cell_type": "code",
   "execution_count": 54,
   "metadata": {},
   "outputs": [
    {
     "data": {
      "text/plain": [
       "3"
      ]
     },
     "execution_count": 54,
     "metadata": {},
     "output_type": "execute_result"
    }
   ],
   "source": [
    "poem.count('rain')"
   ]
  },
  {
   "cell_type": "code",
   "execution_count": 55,
   "metadata": {},
   "outputs": [
    {
     "data": {
      "text/plain": [
       "5"
      ]
     },
     "execution_count": 55,
     "metadata": {},
     "output_type": "execute_result"
    }
   ],
   "source": [
    "poem.count('in')"
   ]
  },
  {
   "cell_type": "code",
   "execution_count": 57,
   "metadata": {},
   "outputs": [
    {
     "name": "stdout",
     "output_type": "stream",
     "text": [
      "LIFE BEFORE DEATH, STRENGTH BEFORE WEAKNESS, JOURNEY BEFORE DESTINATION.\n",
      "life before death, strength before weakness, journey before destination.\n",
      "Life Before Death, Strength Before Weakness, Journey Before Destination.\n",
      "Life before death, strength before weakness, journey before destination.\n",
      "LIFE BEFORE DEATH, STRENGTH BEFORE WEAKNESS, JOURNEY BEFORE DESTINATION.\n"
     ]
    }
   ],
   "source": [
    "print(msg.upper())\n",
    "print(msg.lower())\n",
    "print(msg.title())\n",
    "print(msg.capitalize())\n",
    "print(msg.swapcase())"
   ]
  },
  {
   "cell_type": "code",
   "execution_count": 61,
   "metadata": {},
   "outputs": [
    {
     "name": "stdout",
     "output_type": "stream",
     "text": [
      "apple False\n",
      "apple True\n",
      "apple True\n"
     ]
    }
   ],
   "source": [
    "a = 'apple'\n",
    "b = '290'\n",
    "c = 'apple100'\n",
    "print(a,a.isnumeric()) # check if all character are numeric \n",
    "print(a,a.isalpha())  # check if all character are alphabrts\n",
    "print(a,a.isalnum())  # check if all character are alphanumeric  "
   ]
  },
  {
   "cell_type": "code",
   "execution_count": 62,
   "metadata": {},
   "outputs": [
    {
     "name": "stdout",
     "output_type": "stream",
     "text": [
      "290 True\n",
      "290 False\n",
      "290 True\n"
     ]
    }
   ],
   "source": [
    "print(b,b.isnumeric()) # check if all character are numeric \n",
    "print(b,b.isalpha())  # check if all character are alphabrts\n",
    "print(b,b.isalnum())  # check if all character are alphanumeric  "
   ]
  },
  {
   "cell_type": "code",
   "execution_count": 65,
   "metadata": {},
   "outputs": [
    {
     "name": "stdout",
     "output_type": "stream",
     "text": [
      "pain pain go away,\n",
      "Come again another day.\n",
      "little johny wants to play,\n",
      "pain pain go away.\n"
     ]
    }
   ],
   "source": [
    "print(poem.replace('rain','pain'))"
   ]
  },
  {
   "cell_type": "code",
   "execution_count": 66,
   "metadata": {},
   "outputs": [
    {
     "name": "stdout",
     "output_type": "stream",
     "text": [
      "sun sun go away,\n",
      "Come again another day.\n",
      "little johny wants to play,\n",
      "sun sun go away.\n"
     ]
    }
   ],
   "source": [
    "print(poem.replace('rain','sun'))"
   ]
  },
  {
   "cell_type": "code",
   "execution_count": 67,
   "metadata": {},
   "outputs": [
    {
     "name": "stdout",
     "output_type": "stream",
     "text": [
      "rom rom go away,\n",
      "Come agom another day.\n",
      "little johny wants to play,\n",
      "rom rom go away.\n"
     ]
    }
   ],
   "source": [
    "print(poem.replace('ain','om'))"
   ]
  },
  {
   "cell_type": "code",
   "execution_count": 70,
   "metadata": {},
   "outputs": [
    {
     "name": "stdout",
     "output_type": "stream",
     "text": [
      "on on go away,\n",
      "Come again another day.\n",
      "little johny wants to play,\n",
      "rain rain go away.\n"
     ]
    }
   ],
   "source": [
    "print(poem.replace('rain','on', 2)) # 2 is the max number of replacement"
   ]
  },
  {
   "cell_type": "code",
   "execution_count": null,
   "metadata": {},
   "outputs": [],
   "source": []
  }
 ],
 "metadata": {
  "kernelspec": {
   "display_name": "base",
   "language": "python",
   "name": "python3"
  },
  "language_info": {
   "codemirror_mode": {
    "name": "ipython",
    "version": 3
   },
   "file_extension": ".py",
   "mimetype": "text/x-python",
   "name": "python",
   "nbconvert_exporter": "python",
   "pygments_lexer": "ipython3",
   "version": "3.8.5"
  },
  "orig_nbformat": 4
 },
 "nbformat": 4,
 "nbformat_minor": 2
}
